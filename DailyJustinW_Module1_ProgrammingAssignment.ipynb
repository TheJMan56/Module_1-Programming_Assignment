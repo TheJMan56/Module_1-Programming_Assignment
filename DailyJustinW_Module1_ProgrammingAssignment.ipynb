{
 "cells": [
  {
   "cell_type": "code",
   "execution_count": null,
   "id": "3e14ed57",
   "metadata": {},
   "outputs": [],
   "source": [
    "#3.1\n",
    "\n",
    "60 * 60\n",
    "\n",
    "#There are 3,600 seconds in an hour."
   ]
  },
  {
   "cell_type": "code",
   "execution_count": null,
   "id": "cb239b66",
   "metadata": {},
   "outputs": [],
   "source": [
    "#3.2\n",
    "\n",
    "seconds_per_hour = 60 * 60"
   ]
  },
  {
   "cell_type": "code",
   "execution_count": null,
   "id": "1a9f4111",
   "metadata": {},
   "outputs": [],
   "source": [
    "#3.3\n",
    "\n",
    "24 * seconds_per_hour\n",
    "\n",
    "#There are 86,400 seconds in a day."
   ]
  },
  {
   "cell_type": "code",
   "execution_count": null,
   "id": "ae74a26d",
   "metadata": {},
   "outputs": [],
   "source": [
    "#3.4\n",
    "\n",
    "seconds_per_day = 24 * seconds_per_hour"
   ]
  },
  {
   "cell_type": "code",
   "execution_count": null,
   "id": "25acb9c2",
   "metadata": {},
   "outputs": [],
   "source": [
    "#3.5\n",
    "\n",
    "seconds_per_day / seconds_per_hour"
   ]
  },
  {
   "cell_type": "code",
   "execution_count": null,
   "id": "0485316b",
   "metadata": {},
   "outputs": [],
   "source": [
    "#3.6\n",
    "\n",
    "seconds_per_day // seconds_per_hour\n",
    "\n",
    "#Aside from the final .0, the numbers agree with one another."
   ]
  },
  {
   "cell_type": "code",
   "execution_count": null,
   "id": "e8d9c863",
   "metadata": {},
   "outputs": [],
   "source": []
  }
 ],
 "metadata": {
  "kernelspec": {
   "display_name": "Python 3 (ipykernel)",
   "language": "python",
   "name": "python3"
  },
  "language_info": {
   "codemirror_mode": {
    "name": "ipython",
    "version": 3
   },
   "file_extension": ".py",
   "mimetype": "text/x-python",
   "name": "python",
   "nbconvert_exporter": "python",
   "pygments_lexer": "ipython3",
   "version": "3.9.13"
  }
 },
 "nbformat": 4,
 "nbformat_minor": 5
}
